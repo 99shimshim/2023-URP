{
 "cells": [
  {
   "cell_type": "code",
   "execution_count": 3,
   "id": "f3bda57b",
   "metadata": {},
   "outputs": [],
   "source": [
    "import pandas as pd\n",
    "import numpy as np"
   ]
  },
  {
   "cell_type": "code",
   "execution_count": 4,
   "id": "ab99b2fc",
   "metadata": {},
   "outputs": [],
   "source": [
    "org_finan4 = pd.read_csv(\"C:/Users/mrg07/Desktop/액티브 중소법인 재무보유_외감.csv\")"
   ]
  },
  {
   "cell_type": "code",
   "execution_count": 5,
   "id": "446de293",
   "metadata": {},
   "outputs": [],
   "source": [
    "# 불필요 열 제거\n",
    "\n",
    "no_col = ['CMP_NM1', 'CMP_ENM', 'CMP_SCL', 'PBCO_GB', 'PSN_CORP_GB', 'IND_CD_ORDR', 'IND_CD2', 'IND_CD3', 'PB_ORG_TYP', 'HDOF_CMP_CD', 'MN_BIZ_CONT', 'HOMEPAGE_URL', 'CEO_NM', 'LIST_CD', 'LIST_DATE', 'NATN_NM', 'BZ_TYP']\n",
    "org_finan4 = org_finan4.drop(no_col, axis=1)"
   ]
  },
  {
   "cell_type": "code",
   "execution_count": 6,
   "id": "6a9b1514",
   "metadata": {},
   "outputs": [
    {
     "name": "stderr",
     "output_type": "stream",
     "text": [
      "C:\\Users\\mrg07\\AppData\\Local\\Temp\\ipykernel_16200\\3470104722.py:7: SettingWithCopyWarning: \n",
      "A value is trying to be set on a copy of a slice from a DataFrame\n",
      "\n",
      "See the caveats in the documentation: https://pandas.pydata.org/pandas-docs/stable/user_guide/indexing.html#returning-a-view-versus-a-copy\n",
      "  org_finan4.Industry[np.where((indust >= 1) & (indust <= 3))[0]] = 'A'\n"
     ]
    }
   ],
   "source": [
    "# 산업코드 인코딩\n",
    "\n",
    "indust = np.trunc(org_finan4['IND_CD1']/1000)\n",
    "\n",
    "org_finan4['Industry'] = np.nan\n",
    "\n",
    "org_finan4.Industry[np.where((indust >= 1) & (indust <= 3))[0]] = 'A'\n",
    "org_finan4.Industry[np.where((indust >= 4) & (indust <= 8))[0]] = 'B'\n",
    "org_finan4.Industry[np.where((indust >= 10) & (indust <= 34))[0]] = 'C'\n",
    "org_finan4.Industry[np.where(indust == 35)[0]] = 'D'\n",
    "org_finan4.Industry[np.where((indust >= 36) & (indust <= 39))[0]] = 'E'\n",
    "org_finan4.Industry[np.where((indust >= 41) & (indust <= 42))[0]] = 'F'\n",
    "org_finan4.Industry[np.where((indust >= 45) & (indust <= 47))[0]] = 'G'\n",
    "org_finan4.Industry[np.where((indust >= 49) & (indust <= 52))[0]] = 'H'\n",
    "org_finan4.Industry[np.where((indust >= 55) & (indust <= 56))[0]] = 'I'\n",
    "org_finan4.Industry[np.where((indust >= 58) & (indust <= 63))[0]] = 'J'\n",
    "org_finan4.Industry[np.where((indust >= 64) & (indust <= 66))[0]] = 'K'\n",
    "org_finan4.Industry[np.where(indust == 68)[0]] = 'L'\n",
    "org_finan4.Industry[np.where((indust >= 70) & (indust <= 73))[0]] = 'M'\n",
    "org_finan4.Industry[np.where((indust >= 74) & (indust <= 76))[0]] = 'N'\n",
    "org_finan4.Industry[np.where(indust == 84)[0]] = 'O'\n",
    "org_finan4.Industry[np.where(indust == 85)[0]] = 'P'\n",
    "org_finan4.Industry[np.where((indust >= 86) & (indust <= 87))[0]] = 'Q'\n",
    "org_finan4.Industry[np.where((indust >= 90) & (indust <= 91))[0]] = 'R'\n",
    "org_finan4.Industry[np.where((indust >= 94) & (indust <= 96))[0]] = 'S'\n",
    "org_finan4.Industry[np.where((indust >= 97) & (indust <= 98))[0]] = 'T'\n",
    "org_finan4.Industry[np.where(indust == 99)[0]] = 'U'"
   ]
  },
  {
   "cell_type": "code",
   "execution_count": 7,
   "id": "e4837fca",
   "metadata": {},
   "outputs": [],
   "source": [
    "# (주) (유) (자) 회사 선별\n",
    "\n",
    "org_finan4['Stock_OX'] = org_finan4['CMP_PFIX_NM'].fillna('') + org_finan4['CMP_SFIX_NM'].fillna('')\n",
    "org_finan4 = org_finan4.drop([\"CMP_PFIX_NM\",\"CMP_SFIX_NM\"], axis=1)"
   ]
  },
  {
   "cell_type": "code",
   "execution_count": 8,
   "id": "30e4dfde",
   "metadata": {},
   "outputs": [],
   "source": [
    "# target변수 0으로 설정\n",
    "\n",
    "org_finan4['target'] = 0"
   ]
  },
  {
   "cell_type": "code",
   "execution_count": 9,
   "id": "20ac2406",
   "metadata": {},
   "outputs": [
    {
     "data": {
      "text/html": [
       "<div>\n",
       "<style scoped>\n",
       "    .dataframe tbody tr th:only-of-type {\n",
       "        vertical-align: middle;\n",
       "    }\n",
       "\n",
       "    .dataframe tbody tr th {\n",
       "        vertical-align: top;\n",
       "    }\n",
       "\n",
       "    .dataframe thead th {\n",
       "        text-align: right;\n",
       "    }\n",
       "</style>\n",
       "<table border=\"1\" class=\"dataframe\">\n",
       "  <thead>\n",
       "    <tr style=\"text-align: right;\">\n",
       "      <th></th>\n",
       "      <th>BIZ_NO</th>\n",
       "      <th>HDOF_BR_GB</th>\n",
       "      <th>FR_IVST_CORP_YN</th>\n",
       "      <th>VENT_YN</th>\n",
       "      <th>IND_CD1</th>\n",
       "      <th>MDSCO_PRTC_YN</th>\n",
       "      <th>ESTB_DATE</th>\n",
       "      <th>ESTB_GB</th>\n",
       "      <th>EMP_CNT</th>\n",
       "      <th>Industry</th>\n",
       "      <th>Stock_OX</th>\n",
       "      <th>target</th>\n",
       "    </tr>\n",
       "  </thead>\n",
       "  <tbody>\n",
       "    <tr>\n",
       "      <th>0</th>\n",
       "      <td>1138111739</td>\n",
       "      <td>1</td>\n",
       "      <td>N</td>\n",
       "      <td>N</td>\n",
       "      <td>47712.0</td>\n",
       "      <td>N</td>\n",
       "      <td>19660419.0</td>\n",
       "      <td>1</td>\n",
       "      <td>43.0</td>\n",
       "      <td>G</td>\n",
       "      <td>(주)</td>\n",
       "      <td>0</td>\n",
       "    </tr>\n",
       "    <tr>\n",
       "      <th>1</th>\n",
       "      <td>2078132193</td>\n",
       "      <td>1</td>\n",
       "      <td>N</td>\n",
       "      <td>N</td>\n",
       "      <td>15190.0</td>\n",
       "      <td>N</td>\n",
       "      <td>19910806.0</td>\n",
       "      <td>1</td>\n",
       "      <td>35.0</td>\n",
       "      <td>C</td>\n",
       "      <td>(주)</td>\n",
       "      <td>0</td>\n",
       "    </tr>\n",
       "    <tr>\n",
       "      <th>2</th>\n",
       "      <td>1318167565</td>\n",
       "      <td>1</td>\n",
       "      <td>N</td>\n",
       "      <td>N</td>\n",
       "      <td>49212.0</td>\n",
       "      <td>N</td>\n",
       "      <td>20011030.0</td>\n",
       "      <td>1</td>\n",
       "      <td>149.0</td>\n",
       "      <td>H</td>\n",
       "      <td>(주)</td>\n",
       "      <td>0</td>\n",
       "    </tr>\n",
       "    <tr>\n",
       "      <th>3</th>\n",
       "      <td>5048128251</td>\n",
       "      <td>1</td>\n",
       "      <td>N</td>\n",
       "      <td>N</td>\n",
       "      <td>30391.0</td>\n",
       "      <td>N</td>\n",
       "      <td>19990112.0</td>\n",
       "      <td>1</td>\n",
       "      <td>75.0</td>\n",
       "      <td>C</td>\n",
       "      <td>(주)</td>\n",
       "      <td>0</td>\n",
       "    </tr>\n",
       "    <tr>\n",
       "      <th>4</th>\n",
       "      <td>1098164260</td>\n",
       "      <td>1</td>\n",
       "      <td>N</td>\n",
       "      <td>N</td>\n",
       "      <td>46800.0</td>\n",
       "      <td>N</td>\n",
       "      <td>20000531.0</td>\n",
       "      <td>1</td>\n",
       "      <td>3.0</td>\n",
       "      <td>G</td>\n",
       "      <td>(주)</td>\n",
       "      <td>0</td>\n",
       "    </tr>\n",
       "  </tbody>\n",
       "</table>\n",
       "</div>"
      ],
      "text/plain": [
       "       BIZ_NO  HDOF_BR_GB FR_IVST_CORP_YN VENT_YN  IND_CD1 MDSCO_PRTC_YN  \\\n",
       "0  1138111739           1               N       N  47712.0             N   \n",
       "1  2078132193           1               N       N  15190.0             N   \n",
       "2  1318167565           1               N       N  49212.0             N   \n",
       "3  5048128251           1               N       N  30391.0             N   \n",
       "4  1098164260           1               N       N  46800.0             N   \n",
       "\n",
       "    ESTB_DATE  ESTB_GB  EMP_CNT Industry Stock_OX  target  \n",
       "0  19660419.0        1     43.0        G      (주)       0  \n",
       "1  19910806.0        1     35.0        C      (주)       0  \n",
       "2  20011030.0        1    149.0        H      (주)       0  \n",
       "3  19990112.0        1     75.0        C      (주)       0  \n",
       "4  20000531.0        1      3.0        G      (주)       0  "
      ]
     },
     "execution_count": 9,
     "metadata": {},
     "output_type": "execute_result"
    }
   ],
   "source": [
    "org_finan4.head()"
   ]
  },
  {
   "cell_type": "code",
   "execution_count": null,
   "id": "dd7917de",
   "metadata": {},
   "outputs": [],
   "source": []
  },
  {
   "cell_type": "code",
   "execution_count": 10,
   "id": "e4de9b83",
   "metadata": {},
   "outputs": [],
   "source": [
    "#결측치 대체"
   ]
  },
  {
   "cell_type": "code",
   "execution_count": 13,
   "id": "542c7946",
   "metadata": {},
   "outputs": [],
   "source": [
    "active = org_finan4"
   ]
  },
  {
   "cell_type": "code",
   "execution_count": 14,
   "id": "3b20caa9",
   "metadata": {},
   "outputs": [
    {
     "name": "stderr",
     "output_type": "stream",
     "text": [
      "C:\\Users\\mrg07\\AppData\\Local\\Temp\\ipykernel_16200\\3496034384.py:4: SettingWithCopyWarning: \n",
      "A value is trying to be set on a copy of a slice from a DataFrame\n",
      "\n",
      "See the caveats in the documentation: https://pandas.pydata.org/pandas-docs/stable/user_guide/indexing.html#returning-a-view-versus-a-copy\n",
      "  active['New'][np.where(np.trunc(2023 - (active['ESTB_DATE'])/10000) < 7)[0]] = 2\n",
      "C:\\Users\\mrg07\\AppData\\Local\\Temp\\ipykernel_16200\\3496034384.py:5: SettingWithCopyWarning: \n",
      "A value is trying to be set on a copy of a slice from a DataFrame\n",
      "\n",
      "See the caveats in the documentation: https://pandas.pydata.org/pandas-docs/stable/user_guide/indexing.html#returning-a-view-versus-a-copy\n",
      "  active['New'][np.where(np.trunc(2023 - (active['ESTB_DATE'])/10000) >= 7)[0]] = 1\n"
     ]
    }
   ],
   "source": [
    "#신생기업여부 열 생성\n",
    "\n",
    "active['New'] = 0\n",
    "active['New'][np.where(np.trunc(2023 - (active['ESTB_DATE'])/10000) < 7)[0]] = 2\n",
    "active['New'][np.where(np.trunc(2023 - (active['ESTB_DATE'])/10000) >= 7)[0]] = 1\n",
    "        \n",
    "#미분류0\n",
    "#신생2\n",
    "#오래된기업1"
   ]
  },
  {
   "cell_type": "code",
   "execution_count": 15,
   "id": "e60ee3da",
   "metadata": {},
   "outputs": [
    {
     "name": "stderr",
     "output_type": "stream",
     "text": [
      "C:\\Users\\mrg07\\AppData\\Local\\Temp\\ipykernel_16200\\1643705827.py:1: FutureWarning: The default value of numeric_only in DataFrameGroupBy.mean is deprecated. In a future version, numeric_only will default to False. Either specify numeric_only or select only columns which should be valid for the function.\n",
      "  active_ind = active.groupby(\"Industry\").mean()\n"
     ]
    }
   ],
   "source": [
    "active_ind = active.groupby(\"Industry\").mean()\n",
    "active_ind = active_ind.reset_index()\n",
    "\n"
   ]
  },
  {
   "cell_type": "code",
   "execution_count": 16,
   "id": "cbd98ef7",
   "metadata": {},
   "outputs": [
    {
     "name": "stderr",
     "output_type": "stream",
     "text": [
      "C:\\Users\\mrg07\\AppData\\Local\\Temp\\ipykernel_16200\\3245440328.py:5: SettingWithCopyWarning: \n",
      "A value is trying to be set on a copy of a slice from a DataFrame\n",
      "\n",
      "See the caveats in the documentation: https://pandas.pydata.org/pandas-docs/stable/user_guide/indexing.html#returning-a-view-versus-a-copy\n",
      "  active[\"EMP_CNT\"][i] = active_ind[active[\"Industry\"][i] == active_ind[\"Industry\"]][\"EMP_CNT\"]\n"
     ]
    }
   ],
   "source": [
    "#직원수의 결측치를 산업별평균직원수로 대체\n",
    "\n",
    "for i in range(len(active)):\n",
    "    if active[\"EMP_CNT\"].isnull()[i] == True:\n",
    "        active[\"EMP_CNT\"][i] = active_ind[active[\"Industry\"][i] == active_ind[\"Industry\"]][\"EMP_CNT\"]"
   ]
  },
  {
   "cell_type": "code",
   "execution_count": 17,
   "id": "b23d9f25",
   "metadata": {},
   "outputs": [],
   "source": [
    "# 결측치 있는 열 삭제 (다른 열에 반영 완료)\n",
    "\n",
    "cols = [\"IND_CD1\", \"ESTB_DATE\"]\n",
    "active = active.drop(cols, axis=1)"
   ]
  },
  {
   "cell_type": "code",
   "execution_count": 18,
   "id": "dbc90a30",
   "metadata": {},
   "outputs": [],
   "source": [
    "# Stock_OX 열 결측치는 미분류로 대체\n",
    "\n",
    "active['Stock_OX'] = active['Stock_OX'].fillna(\"미분류\")"
   ]
  },
  {
   "cell_type": "code",
   "execution_count": 19,
   "id": "20f4c0bc",
   "metadata": {},
   "outputs": [
    {
     "data": {
      "text/plain": [
       "BIZ_NO              0\n",
       "HDOF_BR_GB          0\n",
       "FR_IVST_CORP_YN     0\n",
       "VENT_YN             0\n",
       "MDSCO_PRTC_YN       0\n",
       "ESTB_GB             0\n",
       "EMP_CNT             0\n",
       "Industry           11\n",
       "Stock_OX            0\n",
       "target              0\n",
       "New                 0\n",
       "dtype: int64"
      ]
     },
     "execution_count": 19,
     "metadata": {},
     "output_type": "execute_result"
    }
   ],
   "source": [
    "active.isnull().sum()"
   ]
  },
  {
   "cell_type": "code",
   "execution_count": 20,
   "id": "5cd0c107",
   "metadata": {},
   "outputs": [
    {
     "data": {
      "text/html": [
       "<div>\n",
       "<style scoped>\n",
       "    .dataframe tbody tr th:only-of-type {\n",
       "        vertical-align: middle;\n",
       "    }\n",
       "\n",
       "    .dataframe tbody tr th {\n",
       "        vertical-align: top;\n",
       "    }\n",
       "\n",
       "    .dataframe thead th {\n",
       "        text-align: right;\n",
       "    }\n",
       "</style>\n",
       "<table border=\"1\" class=\"dataframe\">\n",
       "  <thead>\n",
       "    <tr style=\"text-align: right;\">\n",
       "      <th></th>\n",
       "      <th>BIZ_NO</th>\n",
       "      <th>HDOF_BR_GB</th>\n",
       "      <th>FR_IVST_CORP_YN</th>\n",
       "      <th>VENT_YN</th>\n",
       "      <th>MDSCO_PRTC_YN</th>\n",
       "      <th>ESTB_GB</th>\n",
       "      <th>EMP_CNT</th>\n",
       "      <th>Industry</th>\n",
       "      <th>Stock_OX</th>\n",
       "      <th>target</th>\n",
       "      <th>New</th>\n",
       "    </tr>\n",
       "  </thead>\n",
       "  <tbody>\n",
       "    <tr>\n",
       "      <th>0</th>\n",
       "      <td>1138111739</td>\n",
       "      <td>1</td>\n",
       "      <td>N</td>\n",
       "      <td>N</td>\n",
       "      <td>N</td>\n",
       "      <td>1</td>\n",
       "      <td>43.0</td>\n",
       "      <td>G</td>\n",
       "      <td>(주)</td>\n",
       "      <td>0</td>\n",
       "      <td>1</td>\n",
       "    </tr>\n",
       "    <tr>\n",
       "      <th>1</th>\n",
       "      <td>2078132193</td>\n",
       "      <td>1</td>\n",
       "      <td>N</td>\n",
       "      <td>N</td>\n",
       "      <td>N</td>\n",
       "      <td>1</td>\n",
       "      <td>35.0</td>\n",
       "      <td>C</td>\n",
       "      <td>(주)</td>\n",
       "      <td>0</td>\n",
       "      <td>1</td>\n",
       "    </tr>\n",
       "    <tr>\n",
       "      <th>2</th>\n",
       "      <td>1318167565</td>\n",
       "      <td>1</td>\n",
       "      <td>N</td>\n",
       "      <td>N</td>\n",
       "      <td>N</td>\n",
       "      <td>1</td>\n",
       "      <td>149.0</td>\n",
       "      <td>H</td>\n",
       "      <td>(주)</td>\n",
       "      <td>0</td>\n",
       "      <td>1</td>\n",
       "    </tr>\n",
       "    <tr>\n",
       "      <th>3</th>\n",
       "      <td>5048128251</td>\n",
       "      <td>1</td>\n",
       "      <td>N</td>\n",
       "      <td>N</td>\n",
       "      <td>N</td>\n",
       "      <td>1</td>\n",
       "      <td>75.0</td>\n",
       "      <td>C</td>\n",
       "      <td>(주)</td>\n",
       "      <td>0</td>\n",
       "      <td>1</td>\n",
       "    </tr>\n",
       "    <tr>\n",
       "      <th>4</th>\n",
       "      <td>1098164260</td>\n",
       "      <td>1</td>\n",
       "      <td>N</td>\n",
       "      <td>N</td>\n",
       "      <td>N</td>\n",
       "      <td>1</td>\n",
       "      <td>3.0</td>\n",
       "      <td>G</td>\n",
       "      <td>(주)</td>\n",
       "      <td>0</td>\n",
       "      <td>1</td>\n",
       "    </tr>\n",
       "  </tbody>\n",
       "</table>\n",
       "</div>"
      ],
      "text/plain": [
       "       BIZ_NO  HDOF_BR_GB FR_IVST_CORP_YN VENT_YN MDSCO_PRTC_YN  ESTB_GB  \\\n",
       "0  1138111739           1               N       N             N        1   \n",
       "1  2078132193           1               N       N             N        1   \n",
       "2  1318167565           1               N       N             N        1   \n",
       "3  5048128251           1               N       N             N        1   \n",
       "4  1098164260           1               N       N             N        1   \n",
       "\n",
       "   EMP_CNT Industry Stock_OX  target  New  \n",
       "0     43.0        G      (주)       0    1  \n",
       "1     35.0        C      (주)       0    1  \n",
       "2    149.0        H      (주)       0    1  \n",
       "3     75.0        C      (주)       0    1  \n",
       "4      3.0        G      (주)       0    1  "
      ]
     },
     "execution_count": 20,
     "metadata": {},
     "output_type": "execute_result"
    }
   ],
   "source": [
    "active.head()"
   ]
  },
  {
   "cell_type": "code",
   "execution_count": null,
   "id": "01abd2b5",
   "metadata": {},
   "outputs": [],
   "source": []
  },
  {
   "cell_type": "code",
   "execution_count": 15,
   "id": "6d42a384",
   "metadata": {},
   "outputs": [],
   "source": [
    "active.to_csv(\"C:/Users/mrg07/Desktop/액티브 외감 eda.csv\", encoding='cp949')"
   ]
  }
 ],
 "metadata": {
  "kernelspec": {
   "display_name": "Python 3 (ipykernel)",
   "language": "python",
   "name": "python3"
  },
  "language_info": {
   "codemirror_mode": {
    "name": "ipython",
    "version": 3
   },
   "file_extension": ".py",
   "mimetype": "text/x-python",
   "name": "python",
   "nbconvert_exporter": "python",
   "pygments_lexer": "ipython3",
   "version": "3.8.8"
  }
 },
 "nbformat": 4,
 "nbformat_minor": 5
}
